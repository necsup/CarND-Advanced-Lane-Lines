{
 "cells": [
  {
   "cell_type": "markdown",
   "metadata": {},
   "source": [
    "# Advanced Lane Finding Project\n",
    "\n",
    "## 1. Compute the camera calibration matrix and distortion coefficients given a set of chessboard images\n",
    "\n",
    "### Calibrate the camera using chessboard images"
   ]
  },
  {
   "cell_type": "code",
   "execution_count": null,
   "metadata": {},
   "outputs": [],
   "source": [
    "import numpy as np\n",
    "import cv2\n",
    "import glob\n",
    "import matplotlib.pyplot as plt\n",
    "%matplotlib inline\n",
    "\n",
    "# List of calibration images\n",
    "calibration_img_fnames = glob.glob('./camera_cal/calibration*.jpg')\n",
    "\n",
    "\n",
    "# Show the chessboard images\n",
    "chess_imgs_grid = plt.figure(figsize=(20, 10))\n",
    "plt.title('Original Chessboard Images')\n",
    "plt.axis('off')\n",
    "current_pos = 1\n",
    "columns = 5\n",
    "rows = 4\n",
    "\n",
    "for file in calibration_img_fnames:\n",
    "    img = cv2.imread(file)\n",
    "    chess_imgs_grid.add_subplot(rows, columns, current_pos)\n",
    "    plt.imshow(img)\n",
    "    current_pos += 1    \n",
    "plt.show()"
   ]
  },
  {
   "cell_type": "markdown",
   "metadata": {},
   "source": [
    "### Find the chessboard corners and draw them"
   ]
  },
  {
   "cell_type": "code",
   "execution_count": null,
   "metadata": {},
   "outputs": [],
   "source": [
    "# prepare object points, like (0,0,0), (1,0,0), (2,0,0) ....,(6,5,0)\n",
    "objp = np.zeros((6*9,3), np.float32)\n",
    "objp[:,:2] = np.mgrid[0:9,0:6].T.reshape(-1,2)\n",
    "\n",
    "# Arrays to stores object and image points for all images\n",
    "objpoints = [] # 3D points in real world space\n",
    "imgpoints = [] # 2D points in image plane\n",
    "\n",
    "# Make a grid figure to display the images with the corners (when found) so that all the images can be shown at once\n",
    "chess_imgs_with_corners_grid = plt.figure(figsize=(20, 10))\n",
    "plt.title('Chessboard Images with corners')\n",
    "plt.axis('off')\n",
    "current_pos = 1\n",
    "columns = 5\n",
    "rows = 4\n",
    "\n",
    "# Find the chessboard corners and show them for each calibration image\n",
    "for file in calibration_img_fnames:\n",
    "    img = cv2.imread(file)\n",
    "    gray = cv2.cvtColor(img, cv2.COLOR_BGR2GRAY)\n",
    "    \n",
    "    # Find the chesboard corners\n",
    "    ret, corners = cv2.findChessboardCorners(gray, (9, 6), None)\n",
    "    \n",
    "    if ret == True:\n",
    "        objpoints.append(objp)\n",
    "        imgpoints.append(corners)\n",
    "    \n",
    "        # Draw and add the images with the chessboard corners drawn to the bigger figure\n",
    "        img = cv2.drawChessboardCorners(img, (9, 6), corners, ret)\n",
    "        \n",
    "        chess_imgs_with_corners_grid.add_subplot(rows, columns, current_pos)        \n",
    "        plt.imshow(img)\n",
    "    else:\n",
    "        print('Unable to find corners for image: [ %s ]' % current_pos)\n",
    "    current_pos += 1\n",
    "plt.show()"
   ]
  },
  {
   "cell_type": "markdown",
   "metadata": {},
   "source": [
    "### Calibrate the camera and show the calibration images undistorted"
   ]
  },
  {
   "cell_type": "code",
   "execution_count": null,
   "metadata": {},
   "outputs": [],
   "source": [
    "# Calculate camera matrix, distorition coefficents, rotation vectors, and translation vectors\n",
    "ret, mtx, dist, rvecs, tvecs = cv2.calibrateCamera(objpoints, imgpoints, gray.shape[::-1], None, None)\n",
    "\n",
    "# Make a grid figure to display the undistored calibration images so that all the images can be shown at once\n",
    "chess_imgs_undistorted_grid = plt.figure(figsize=(20, 10))\n",
    "plt.title('Chessboard Images Undistorted')\n",
    "plt.axis('off')\n",
    "current_pos = 1\n",
    "columns = 5\n",
    "rows = 4\n",
    "\n",
    "for file in calibration_img_fnames:\n",
    "    img = cv2.imread(file)\n",
    "    img_undistorted = cv2.undistort(img, mtx, dist, None, mtx)\n",
    "    chess_imgs_undistorted_grid.add_subplot(rows, columns, current_pos)\n",
    "    plt.imshow(img_undistorted)\n",
    "    current_pos += 1\n",
    "  \n",
    "plt.show()\n",
    "    "
   ]
  },
  {
   "cell_type": "markdown",
   "metadata": {},
   "source": [
    "## 2. Apply a distortion correction to raw images."
   ]
  },
  {
   "cell_type": "code",
   "execution_count": null,
   "metadata": {
    "scrolled": false
   },
   "outputs": [],
   "source": [
    "# load the test images\n",
    "test_img_fnames = glob.glob('./test_images/*.jpg')\n",
    "\n",
    "# List to store undistorted test images\n",
    "undistored_test_images = []\n",
    "\n",
    "# Make a grid figure to display the test images (original on left side, undestorted on the right side)\n",
    "test_images_undistort_grid = plt.figure(figsize=(20, 50))\n",
    "plt.title('UndistortTest Images (Left: Original Right: Undistorted)')\n",
    "plt.axis('off')\n",
    "current_pos = 1\n",
    "columns = 2\n",
    "rows = 8\n",
    "\n",
    "\n",
    "for file in test_img_fnames:\n",
    "    img = cv2.imread(file)\n",
    "    img_undistorted = cv2.undistort(img, mtx, dist, None, mtx)\n",
    "    img = cv2.cvtColor(img, cv2.COLOR_BGR2RGB)\n",
    "    img_undistorted = cv2.cvtColor(img_undistorted, cv2.COLOR_BGR2RGB)\n",
    "    undistored_test_images.append(img_undistorted)\n",
    "    \n",
    "    test_images_undistort_grid.add_subplot(rows, columns, current_pos)\n",
    "    plt.imshow(img)\n",
    "    test_images_undistort_grid.add_subplot(rows, columns, current_pos+1)\n",
    "    plt.imshow(img_undistorted)\n",
    "    \n",
    "    current_pos += 2\n",
    "plt.show()\n",
    "    "
   ]
  },
  {
   "cell_type": "markdown",
   "metadata": {},
   "source": [
    "## 3. Use color transforms, gradients, etc., to create a thresholded binary image"
   ]
  },
  {
   "cell_type": "code",
   "execution_count": null,
   "metadata": {
    "scrolled": false
   },
   "outputs": [],
   "source": [
    "# List to hold the combined binary images\n",
    "combined_binary_images = []\n",
    "\n",
    "# Make a grid figure to display the test images (original_undistorted, gradiant_binary, s_channel, stacked, combined)\n",
    "test_images_binary_grid = plt.figure(figsize=(20, 150))\n",
    "plt.title('Threshold binary images')\n",
    "plt.axis('off')\n",
    "current_pos = 1\n",
    "colums = 2\n",
    "rows = 24\n",
    "\n",
    "# Go through all images in the test_images folder\n",
    "for img in undistored_test_images:\n",
    "    \n",
    "    # binary from sobel in x direction of the GRAYSCALE image\n",
    "    gray = cv2.cvtColor(img, cv2.COLOR_RGB2GRAY)\n",
    "    sobelx = cv2.Sobel(gray, cv2.CV_64F, 1, 0)\n",
    "    abs_sobelx = np.absolute(sobelx)\n",
    "    scaled_sobelx = np.uint8(255*abs_sobelx/np.max(abs_sobelx))    \n",
    "    threshold_min = 40\n",
    "    threshold_max = 80\n",
    "    sxbinary = np.zeros_like(scaled_sobelx)\n",
    "    sxbinary[(scaled_sobelx >= threshold_min) & (scaled_sobelx <= threshold_max)] = 1\n",
    "    \n",
    "    # binary from the color channel\n",
    "    hls = cv2.cvtColor(img, cv2.COLOR_RGB2HLS)\n",
    "    s_channel = hls[:,:,2]\n",
    "    scaled_s_channel = np.uint8(255*s_channel/np.max(s_channel))\n",
    "    s_threshold_min = 150\n",
    "    s_threshold_max = 255\n",
    "    s_binary = np.zeros_like(s_channel)\n",
    "    s_binary[(s_channel >= s_threshold_min) & (s_channel <= s_threshold_max)] = 1\n",
    "    \n",
    "    # Stack the grayscale gradiant binary and the s channel binary\n",
    "    stacked_binary = np.dstack((np.zeros_like(sxbinary), sxbinary, s_binary)) * 255\n",
    "    \n",
    "    # Combine the binaries into one binary\n",
    "    combined_binary = np.zeros_like(sxbinary)\n",
    "    combined_binary[(sxbinary == 1) | (s_binary == 1)] = 1\n",
    "    combined_binary_images.append(combined_binary)\n",
    "    \n",
    "    test_images_binary_grid.add_subplot(rows, columns, current_pos)\n",
    "    plt.imshow(img)\n",
    "    plt.title('Original')\n",
    "    test_images_binary_grid.add_subplot(rows, columns, current_pos+1)\n",
    "    plt.imshow(sxbinary, cmap='gray')\n",
    "    plt.title('Grayscale/gradiant binary')\n",
    "    test_images_binary_grid.add_subplot(rows, columns, current_pos+2)\n",
    "    plt.imshow(s_channel)\n",
    "    plt.title('S channel')\n",
    "    test_images_binary_grid.add_subplot(rows, columns, current_pos+3)\n",
    "    plt.imshow(s_binary)\n",
    "    plt.title('S channel binary')\n",
    "    test_images_binary_grid.add_subplot(rows, columns, current_pos+4)\n",
    "    plt.imshow(stacked_binary)\n",
    "    plt.title('Stacked binary')\n",
    "    test_images_binary_grid.add_subplot(rows, columns, current_pos+5)\n",
    "    plt.imshow(combined_binary, cmap='gray')\n",
    "    plt.title('Combined s channel and gradiant thresholds')\n",
    "    \n",
    "\n",
    "    current_pos += 6\n",
    "plt.show()"
   ]
  },
  {
   "cell_type": "markdown",
   "metadata": {},
   "source": [
    "### Just the combined binary images"
   ]
  },
  {
   "cell_type": "code",
   "execution_count": null,
   "metadata": {
    "scrolled": false
   },
   "outputs": [],
   "source": [
    "combined_images_binary_grid = plt.figure(figsize=(20, 25))\n",
    "plt.title('Combined binary images')\n",
    "plt.axis('off')\n",
    "current_pos = 1\n",
    "colums = 2\n",
    "rows = 4\n",
    "\n",
    "for img in combined_binary_images:\n",
    "    combined_images_binary_grid.add_subplot(rows, columns, current_pos)\n",
    "    \n",
    "    plt.imshow(img, cmap='gray')\n",
    "    current_pos += 1\n",
    "plt.show()    "
   ]
  },
  {
   "cell_type": "markdown",
   "metadata": {},
   "source": [
    "## 4. Apply a perspective transform to rectify binary image (\"birds-eye view\")"
   ]
  },
  {
   "cell_type": "code",
   "execution_count": null,
   "metadata": {
    "scrolled": false
   },
   "outputs": [],
   "source": [
    "# Coordinates of trepezoid used for birds-eye transform\n",
    "top_right = (705, 460)\n",
    "bottom_right = (1090, 710)\n",
    "bottom_left = (230, 710)\n",
    "top_left = (580, 460)\n",
    "\n",
    "# Function to warp the image to birds-eye view\n",
    "def birdseye_warp(img):\n",
    "    img_size = (img.shape[1], img.shape[0])\n",
    "    \n",
    "    # Source coordinates\n",
    "    src = np.float32(\n",
    "    [top_right,\n",
    "    bottom_right,\n",
    "    bottom_left,\n",
    "    top_left])\n",
    "    \n",
    "    # Destination coordinates\n",
    "    dst = np.float32(\n",
    "    [[960, 0],\n",
    "    [960, 720],\n",
    "    [320, 720],\n",
    "    [320, 0]])\n",
    "    \n",
    "    # Transfomration matrix\n",
    "    M = cv2.getPerspectiveTransform(src, dst)\n",
    "    birdseye = cv2.warpPerspective(img, M, img_size, flags=cv2.INTER_LINEAR)\n",
    "    \n",
    "    return birdseye\n",
    "\n",
    "birdseye_view_grid = plt.figure(figsize=(20, 55))\n",
    "plt.title('Birds-eye view images')\n",
    "plt.axis('off')\n",
    "current_pos = 1\n",
    "colums = 2\n",
    "rows = 8\n",
    "\n",
    "for img in combined_binary_images:\n",
    "    \n",
    "    birdseye_img = birdseye_warp(img)    \n",
    "    \n",
    "    birdseye_view_grid.add_subplot(rows, columns, current_pos)\n",
    "    plt.imshow(img)\n",
    "    # draw the lines for the transformation\n",
    "    plt.plot((top_right[0], bottom_right[0]), (top_right[1], bottom_right[1]), 'r-', lw=2)\n",
    "    plt.plot((top_left[0], bottom_left[0]), (top_left[1], bottom_left[1]), 'r-', lw=2)\n",
    "    \n",
    "    birdseye_view_grid.add_subplot(rows, columns, current_pos+1)\n",
    "    plt.imshow(birdseye_img)\n",
    "   \n",
    "    current_pos += 2\n",
    "plt.show()\n",
    "    "
   ]
  },
  {
   "cell_type": "markdown",
   "metadata": {},
   "source": [
    "### Perspective transform on actual test images"
   ]
  },
  {
   "cell_type": "code",
   "execution_count": null,
   "metadata": {
    "scrolled": false
   },
   "outputs": [],
   "source": [
    "birdseye_view_grid = plt.figure(figsize=(20, 55))\n",
    "plt.title('Birds-eye view images')\n",
    "plt.axis('off')\n",
    "current_pos = 1\n",
    "colums = 2\n",
    "rows = 8\n",
    "\n",
    "for img in undistored_test_images:\n",
    "    \n",
    "    birdseye_img = birdseye_warp(img)     \n",
    "    \n",
    "    birdseye_view_grid.add_subplot(rows, columns, current_pos)\n",
    "    plt.imshow(img)\n",
    "    \n",
    "\n",
    "#     plt.plot(*top_right, '.') # top right\n",
    "#     plt.plot(*bottom_right, '.') # bottom right\n",
    "#     plt.plot(*bottom_left, '.')  # bottom left\n",
    "#     plt.plot(*top_left, '.') # top left\n",
    "    \n",
    "    # draw the lines for the transformation\n",
    "    plt.plot((top_right[0], bottom_right[0]), (top_right[1], bottom_right[1]), 'r-', lw=2)\n",
    "    plt.plot((top_left[0], bottom_left[0]), (top_left[1], bottom_left[1]), 'r-', lw=2)\n",
    "    \n",
    "    birdseye_view_grid.add_subplot(rows, columns, current_pos+1)\n",
    "    plt.imshow(birdseye_img)\n",
    "    \n",
    "    \n",
    "    current_pos += 2\n",
    "plt.show()"
   ]
  },
  {
   "cell_type": "markdown",
   "metadata": {},
   "source": [
    "## 5. Detect lane pixels and fit to find the lane boundary"
   ]
  },
  {
   "cell_type": "code",
   "execution_count": null,
   "metadata": {},
   "outputs": [],
   "source": []
  },
  {
   "cell_type": "markdown",
   "metadata": {},
   "source": [
    "## 6. Determine the curvature of the lane and vehicle position with respect to center."
   ]
  },
  {
   "cell_type": "markdown",
   "metadata": {},
   "source": [
    "## 7. Warp the detected lane boundaries back onto the original image"
   ]
  },
  {
   "cell_type": "markdown",
   "metadata": {},
   "source": [
    "## 8. Output visual display of the lane boundaries and numerical estimation of lane curvature and vehicle position"
   ]
  },
  {
   "cell_type": "code",
   "execution_count": null,
   "metadata": {},
   "outputs": [],
   "source": []
  }
 ],
 "metadata": {
  "kernelspec": {
   "display_name": "Python 3",
   "language": "python",
   "name": "python3"
  },
  "language_info": {
   "codemirror_mode": {
    "name": "ipython",
    "version": 3
   },
   "file_extension": ".py",
   "mimetype": "text/x-python",
   "name": "python",
   "nbconvert_exporter": "python",
   "pygments_lexer": "ipython3",
   "version": "3.5.2"
  },
  "widgets": {
   "state": {},
   "version": "1.1.2"
  }
 },
 "nbformat": 4,
 "nbformat_minor": 2
}
